{
 "cells": [
  {
   "cell_type": "code",
   "execution_count": 1,
   "id": "e03b608b",
   "metadata": {
    "_cell_guid": "b1076dfc-b9ad-4769-8c92-a6c4dae69d19",
    "_uuid": "8f2839f25d086af736a60e9eeb907d3b93b6e0e5",
    "execution": {
     "iopub.execute_input": "2023-07-30T12:34:36.005745Z",
     "iopub.status.busy": "2023-07-30T12:34:36.004496Z",
     "iopub.status.idle": "2023-07-30T12:34:48.302186Z",
     "shell.execute_reply": "2023-07-30T12:34:48.300843Z"
    },
    "papermill": {
     "duration": 12.312702,
     "end_time": "2023-07-30T12:34:48.305590",
     "exception": false,
     "start_time": "2023-07-30T12:34:35.992888",
     "status": "completed"
    },
    "tags": []
   },
   "outputs": [
    {
     "name": "stderr",
     "output_type": "stream",
     "text": [
      "/opt/conda/lib/python3.10/site-packages/scipy/__init__.py:146: UserWarning: A NumPy version >=1.16.5 and <1.23.0 is required for this version of SciPy (detected version 1.23.5\n",
      "  warnings.warn(f\"A NumPy version >={np_minversion} and <{np_maxversion}\"\n",
      "/opt/conda/lib/python3.10/site-packages/tensorflow_io/python/ops/__init__.py:98: UserWarning: unable to load libtensorflow_io_plugins.so: unable to open file: libtensorflow_io_plugins.so, from paths: ['/opt/conda/lib/python3.10/site-packages/tensorflow_io/python/ops/libtensorflow_io_plugins.so']\n",
      "caused by: ['/opt/conda/lib/python3.10/site-packages/tensorflow_io/python/ops/libtensorflow_io_plugins.so: undefined symbol: _ZN3tsl6StatusC1EN10tensorflow5error4CodeESt17basic_string_viewIcSt11char_traitsIcEENS_14SourceLocationE']\n",
      "  warnings.warn(f\"unable to load libtensorflow_io_plugins.so: {e}\")\n",
      "/opt/conda/lib/python3.10/site-packages/tensorflow_io/python/ops/__init__.py:104: UserWarning: file system plugins are not loaded: unable to open file: libtensorflow_io.so, from paths: ['/opt/conda/lib/python3.10/site-packages/tensorflow_io/python/ops/libtensorflow_io.so']\n",
      "caused by: ['/opt/conda/lib/python3.10/site-packages/tensorflow_io/python/ops/libtensorflow_io.so: undefined symbol: _ZTVN10tensorflow13GcsFileSystemE']\n",
      "  warnings.warn(f\"file system plugins are not loaded: {e}\")\n"
     ]
    }
   ],
   "source": [
    "import tensorflow as tf\n",
    "import pandas as pd\n",
    "import numpy as np\n",
    "import seaborn as sns\n",
    "import matplotlib.pyplot as plt\n",
    "import gc\n",
    "from sklearn.model_selection import train_test_split\n",
    "from tqdm.auto import tqdm"
   ]
  },
  {
   "cell_type": "code",
   "execution_count": 2,
   "id": "cd31a41d",
   "metadata": {
    "execution": {
     "iopub.execute_input": "2023-07-30T12:34:48.326971Z",
     "iopub.status.busy": "2023-07-30T12:34:48.326047Z",
     "iopub.status.idle": "2023-07-30T12:35:01.425253Z",
     "shell.execute_reply": "2023-07-30T12:35:01.423719Z"
    },
    "papermill": {
     "duration": 13.113065,
     "end_time": "2023-07-30T12:35:01.428401",
     "exception": false,
     "start_time": "2023-07-30T12:34:48.315336",
     "status": "completed"
    },
    "tags": []
   },
   "outputs": [],
   "source": [
    "train = np.load(\"/kaggle/input/cafa5-dataset/t5_train_embedding.npy\")\n",
    "labels = pd.read_parquet(\"/kaggle/input/cafa5-dataset/final_train_labels.parquet\")"
   ]
  },
  {
   "cell_type": "code",
   "execution_count": 3,
   "id": "0952e13a",
   "metadata": {
    "execution": {
     "iopub.execute_input": "2023-07-30T12:35:01.448484Z",
     "iopub.status.busy": "2023-07-30T12:35:01.447910Z",
     "iopub.status.idle": "2023-07-30T12:35:02.589374Z",
     "shell.execute_reply": "2023-07-30T12:35:02.587580Z"
    },
    "papermill": {
     "duration": 1.155883,
     "end_time": "2023-07-30T12:35:02.593297",
     "exception": false,
     "start_time": "2023-07-30T12:35:01.437414",
     "status": "completed"
    },
    "tags": []
   },
   "outputs": [],
   "source": [
    "ids = labels[\"EntryID\"]\n",
    "labels = labels.drop(\"EntryID\", axis = 1)"
   ]
  },
  {
   "cell_type": "code",
   "execution_count": 4,
   "id": "b4edcb88",
   "metadata": {
    "execution": {
     "iopub.execute_input": "2023-07-30T12:35:02.628154Z",
     "iopub.status.busy": "2023-07-30T12:35:02.627372Z",
     "iopub.status.idle": "2023-07-30T12:35:06.147323Z",
     "shell.execute_reply": "2023-07-30T12:35:06.145955Z"
    },
    "papermill": {
     "duration": 3.541289,
     "end_time": "2023-07-30T12:35:06.150263",
     "exception": false,
     "start_time": "2023-07-30T12:35:02.608974",
     "status": "completed"
    },
    "tags": []
   },
   "outputs": [],
   "source": [
    "X_train, X_valid, y_train, y_valid = train_test_split(train, labels, test_size=0.1, shuffle= True)"
   ]
  },
  {
   "cell_type": "code",
   "execution_count": 5,
   "id": "7118abce",
   "metadata": {
    "execution": {
     "iopub.execute_input": "2023-07-30T12:35:06.178204Z",
     "iopub.status.busy": "2023-07-30T12:35:06.177014Z",
     "iopub.status.idle": "2023-07-30T12:35:06.196597Z",
     "shell.execute_reply": "2023-07-30T12:35:06.195362Z"
    },
    "papermill": {
     "duration": 0.03682,
     "end_time": "2023-07-30T12:35:06.199569",
     "exception": false,
     "start_time": "2023-07-30T12:35:06.162749",
     "status": "completed"
    },
    "tags": []
   },
   "outputs": [],
   "source": [
    "del train\n",
    "del labels"
   ]
  },
  {
   "cell_type": "code",
   "execution_count": 6,
   "id": "9037a1ba",
   "metadata": {
    "execution": {
     "iopub.execute_input": "2023-07-30T12:35:06.225842Z",
     "iopub.status.busy": "2023-07-30T12:35:06.225423Z",
     "iopub.status.idle": "2023-07-30T12:35:11.545954Z",
     "shell.execute_reply": "2023-07-30T12:35:11.544683Z"
    },
    "papermill": {
     "duration": 5.336379,
     "end_time": "2023-07-30T12:35:11.548939",
     "exception": false,
     "start_time": "2023-07-30T12:35:06.212560",
     "status": "completed"
    },
    "tags": []
   },
   "outputs": [],
   "source": [
    "train_dataset = tf.data.Dataset.from_tensor_slices((X_train, y_train))\n",
    "validation_dataset = tf.data.Dataset.from_tensor_slices((X_valid, y_valid))"
   ]
  },
  {
   "cell_type": "code",
   "execution_count": 7,
   "id": "bfcd5cd0",
   "metadata": {
    "execution": {
     "iopub.execute_input": "2023-07-30T12:35:11.569365Z",
     "iopub.status.busy": "2023-07-30T12:35:11.568927Z",
     "iopub.status.idle": "2023-07-30T12:35:11.595524Z",
     "shell.execute_reply": "2023-07-30T12:35:11.594515Z"
    },
    "papermill": {
     "duration": 0.039996,
     "end_time": "2023-07-30T12:35:11.598645",
     "exception": false,
     "start_time": "2023-07-30T12:35:11.558649",
     "status": "completed"
    },
    "tags": []
   },
   "outputs": [],
   "source": [
    "BATCH_SIZE = 1280\n",
    "SHUFFLE_BUFFER_SIZE = 100\n",
    "\n",
    "train_dataset = train_dataset.shuffle(SHUFFLE_BUFFER_SIZE).batch(BATCH_SIZE)\n",
    "validation_dataset = validation_dataset.batch(BATCH_SIZE)"
   ]
  },
  {
   "cell_type": "code",
   "execution_count": 8,
   "id": "c4d99cf7",
   "metadata": {
    "execution": {
     "iopub.execute_input": "2023-07-30T12:35:11.619436Z",
     "iopub.status.busy": "2023-07-30T12:35:11.618989Z",
     "iopub.status.idle": "2023-07-30T12:35:11.628244Z",
     "shell.execute_reply": "2023-07-30T12:35:11.626973Z"
    },
    "papermill": {
     "duration": 0.023533,
     "end_time": "2023-07-30T12:35:11.631488",
     "exception": false,
     "start_time": "2023-07-30T12:35:11.607955",
     "status": "completed"
    },
    "tags": []
   },
   "outputs": [
    {
     "data": {
      "text/plain": [
       "<_BatchDataset element_spec=(TensorSpec(shape=(None, 1024), dtype=tf.float64, name=None), TensorSpec(shape=(None, 2000), dtype=tf.float64, name=None))>"
      ]
     },
     "execution_count": 8,
     "metadata": {},
     "output_type": "execute_result"
    }
   ],
   "source": [
    "train_dataset"
   ]
  },
  {
   "cell_type": "code",
   "execution_count": 9,
   "id": "ecda2fd6",
   "metadata": {
    "execution": {
     "iopub.execute_input": "2023-07-30T12:35:11.652595Z",
     "iopub.status.busy": "2023-07-30T12:35:11.652117Z",
     "iopub.status.idle": "2023-07-30T12:35:11.833960Z",
     "shell.execute_reply": "2023-07-30T12:35:11.832615Z"
    },
    "papermill": {
     "duration": 0.196324,
     "end_time": "2023-07-30T12:35:11.837389",
     "exception": false,
     "start_time": "2023-07-30T12:35:11.641065",
     "status": "completed"
    },
    "tags": []
   },
   "outputs": [],
   "source": [
    "INPUT_SHAPE = [1024]\n",
    "output_size = 2000\n",
    "\n",
    "model = tf.keras.Sequential([\n",
    "    tf.keras.layers.BatchNormalization(input_shape=INPUT_SHAPE),    \n",
    "    tf.keras.layers.Dense(units=512, activation='relu'),\n",
    "    tf.keras.layers.Dense(units=512, activation='relu'),\n",
    "    tf.keras.layers.Dense(units=512, activation='relu'),\n",
    "    tf.keras.layers.Dense(units=output_size,activation='sigmoid')\n",
    "])\n"
   ]
  },
  {
   "cell_type": "code",
   "execution_count": 10,
   "id": "33769016",
   "metadata": {
    "execution": {
     "iopub.execute_input": "2023-07-30T12:35:11.860216Z",
     "iopub.status.busy": "2023-07-30T12:35:11.859744Z",
     "iopub.status.idle": "2023-07-30T12:35:11.890125Z",
     "shell.execute_reply": "2023-07-30T12:35:11.889141Z"
    },
    "papermill": {
     "duration": 0.045211,
     "end_time": "2023-07-30T12:35:11.892609",
     "exception": false,
     "start_time": "2023-07-30T12:35:11.847398",
     "status": "completed"
    },
    "tags": []
   },
   "outputs": [
    {
     "name": "stdout",
     "output_type": "stream",
     "text": [
      "Model: \"sequential\"\n",
      "_________________________________________________________________\n",
      " Layer (type)                Output Shape              Param #   \n",
      "=================================================================\n",
      " batch_normalization (BatchN  (None, 1024)             4096      \n",
      " ormalization)                                                   \n",
      "                                                                 \n",
      " dense (Dense)               (None, 512)               524800    \n",
      "                                                                 \n",
      " dense_1 (Dense)             (None, 512)               262656    \n",
      "                                                                 \n",
      " dense_2 (Dense)             (None, 512)               262656    \n",
      "                                                                 \n",
      " dense_3 (Dense)             (None, 2000)              1026000   \n",
      "                                                                 \n",
      "=================================================================\n",
      "Total params: 2,080,208\n",
      "Trainable params: 2,078,160\n",
      "Non-trainable params: 2,048\n",
      "_________________________________________________________________\n"
     ]
    }
   ],
   "source": [
    "model.summary()"
   ]
  },
  {
   "cell_type": "code",
   "execution_count": 11,
   "id": "022b5b04",
   "metadata": {
    "execution": {
     "iopub.execute_input": "2023-07-30T12:35:11.916621Z",
     "iopub.status.busy": "2023-07-30T12:35:11.916194Z",
     "iopub.status.idle": "2023-07-30T12:35:12.221608Z",
     "shell.execute_reply": "2023-07-30T12:35:12.220063Z"
    },
    "papermill": {
     "duration": 0.320796,
     "end_time": "2023-07-30T12:35:12.224382",
     "exception": false,
     "start_time": "2023-07-30T12:35:11.903586",
     "status": "completed"
    },
    "tags": []
   },
   "outputs": [
    {
     "data": {
      "text/plain": [
       "595"
      ]
     },
     "execution_count": 11,
     "metadata": {},
     "output_type": "execute_result"
    }
   ],
   "source": [
    "gc.collect()"
   ]
  },
  {
   "cell_type": "code",
   "execution_count": 12,
   "id": "f7088092",
   "metadata": {
    "execution": {
     "iopub.execute_input": "2023-07-30T12:35:12.249126Z",
     "iopub.status.busy": "2023-07-30T12:35:12.248134Z",
     "iopub.status.idle": "2023-07-30T12:37:52.687694Z",
     "shell.execute_reply": "2023-07-30T12:37:52.686173Z"
    },
    "papermill": {
     "duration": 160.455323,
     "end_time": "2023-07-30T12:37:52.690849",
     "exception": false,
     "start_time": "2023-07-30T12:35:12.235526",
     "status": "completed"
    },
    "tags": []
   },
   "outputs": [
    {
     "name": "stdout",
     "output_type": "stream",
     "text": [
      "Epoch 1/4\n",
      "101/101 [==============================] - 38s 356ms/step - loss: 0.0944 - binary_accuracy: 0.9745 - auc: 0.7991 - val_loss: 0.4844 - val_binary_accuracy: 0.9844 - val_auc: 0.8842\n",
      "Epoch 2/4\n",
      "101/101 [==============================] - 36s 353ms/step - loss: 0.0543 - binary_accuracy: 0.9849 - auc: 0.9039 - val_loss: 0.3500 - val_binary_accuracy: 0.9848 - val_auc: 0.9232\n",
      "Epoch 3/4\n",
      "101/101 [==============================] - 35s 350ms/step - loss: 0.0510 - binary_accuracy: 0.9851 - auc: 0.9219 - val_loss: 0.2246 - val_binary_accuracy: 0.9850 - val_auc: 0.9345\n",
      "Epoch 4/4\n",
      "101/101 [==============================] - 38s 377ms/step - loss: 0.0492 - binary_accuracy: 0.9853 - auc: 0.9298 - val_loss: 0.1313 - val_binary_accuracy: 0.9851 - val_auc: 0.9398\n"
     ]
    }
   ],
   "source": [
    "# Compile model\n",
    "BATCH_SIZE = 2560\n",
    "model.compile(\n",
    "    optimizer=tf.keras.optimizers.Adam(learning_rate=0.001),\n",
    "    loss='binary_crossentropy',\n",
    "    metrics=['binary_accuracy', tf.keras.metrics.AUC()],\n",
    ")\n",
    "\n",
    "history = model.fit(\n",
    "    train_dataset,\n",
    "    batch_size=BATCH_SIZE,\n",
    "    epochs=4,\n",
    "    validation_data=validation_dataset,\n",
    ")"
   ]
  },
  {
   "cell_type": "code",
   "execution_count": 13,
   "id": "41338bda",
   "metadata": {
    "execution": {
     "iopub.execute_input": "2023-07-30T12:37:52.787446Z",
     "iopub.status.busy": "2023-07-30T12:37:52.787012Z",
     "iopub.status.idle": "2023-07-30T12:37:53.153619Z",
     "shell.execute_reply": "2023-07-30T12:37:53.152331Z"
    },
    "papermill": {
     "duration": 0.418228,
     "end_time": "2023-07-30T12:37:53.156546",
     "exception": false,
     "start_time": "2023-07-30T12:37:52.738318",
     "status": "completed"
    },
    "tags": []
   },
   "outputs": [
    {
     "data": {
      "text/plain": [
       "4"
      ]
     },
     "execution_count": 13,
     "metadata": {},
     "output_type": "execute_result"
    }
   ],
   "source": [
    "del train_dataset\n",
    "del validation_dataset\n",
    "gc.collect()"
   ]
  },
  {
   "cell_type": "code",
   "execution_count": 14,
   "id": "bd35a637",
   "metadata": {
    "execution": {
     "iopub.execute_input": "2023-07-30T12:37:53.259765Z",
     "iopub.status.busy": "2023-07-30T12:37:53.258384Z",
     "iopub.status.idle": "2023-07-30T12:37:54.005486Z",
     "shell.execute_reply": "2023-07-30T12:37:54.003907Z"
    },
    "papermill": {
     "duration": 0.802429,
     "end_time": "2023-07-30T12:37:54.008846",
     "exception": false,
     "start_time": "2023-07-30T12:37:53.206417",
     "status": "completed"
    },
    "tags": []
   },
   "outputs": [
    {
     "data": {
      "text/plain": [
       "<Axes: title={'center': 'Accuracy'}>"
      ]
     },
     "execution_count": 14,
     "metadata": {},
     "output_type": "execute_result"
    },
    {
     "data": {
      "image/png": "[encoded data removed]",
      "text/plain": [
       "<Figure size 640x480 with 1 Axes>"
      ]
     },
     "metadata": {},
     "output_type": "display_data"
    },
    {
     "data": {
      "image/png": "[encoded data removed]",
      "text/plain": [
       "<Figure size 640x480 with 1 Axes>"
      ]
     },
     "metadata": {},
     "output_type": "display_data"
    }
   ],
   "source": [
    "history_df = pd.DataFrame(history.history)\n",
    "history_df.loc[:, ['loss']].plot(title=\"Cross-entropy\")\n",
    "history_df.loc[:, ['binary_accuracy']].plot(title=\"Accuracy\")"
   ]
  },
  {
   "cell_type": "code",
   "execution_count": 15,
   "id": "9d711945",
   "metadata": {
    "execution": {
     "iopub.execute_input": "2023-07-30T12:37:54.109923Z",
     "iopub.status.busy": "2023-07-30T12:37:54.109433Z",
     "iopub.status.idle": "2023-07-30T12:38:03.726359Z",
     "shell.execute_reply": "2023-07-30T12:38:03.724995Z"
    },
    "papermill": {
     "duration": 9.670278,
     "end_time": "2023-07-30T12:38:03.729355",
     "exception": false,
     "start_time": "2023-07-30T12:37:54.059077",
     "status": "completed"
    },
    "tags": []
   },
   "outputs": [
    {
     "name": "stdout",
     "output_type": "stream",
     "text": [
      "(141865, 1024)\n"
     ]
    }
   ],
   "source": [
    "test_df = np.load('/kaggle/input/cafa5-dataset/t5_test_embedding.npy')\n",
    "\n",
    "# Convert test_embeddings to dataframe\n",
    "column_num = test_df.shape[1]\n",
    "test_df = pd.DataFrame(test_df, columns = [\"Column_\" + str(i) for i in range(1, column_num+1)])\n",
    "print(test_df.shape)"
   ]
  },
  {
   "cell_type": "code",
   "execution_count": 16,
   "id": "b20e530a",
   "metadata": {
    "execution": {
     "iopub.execute_input": "2023-07-30T12:38:03.831247Z",
     "iopub.status.busy": "2023-07-30T12:38:03.830791Z",
     "iopub.status.idle": "2023-07-30T12:38:48.034599Z",
     "shell.execute_reply": "2023-07-30T12:38:48.033358Z"
    },
    "papermill": {
     "duration": 44.258391,
     "end_time": "2023-07-30T12:38:48.037836",
     "exception": false,
     "start_time": "2023-07-30T12:38:03.779445",
     "status": "completed"
    },
    "tags": []
   },
   "outputs": [
    {
     "name": "stdout",
     "output_type": "stream",
     "text": [
      "4434/4434 [==============================] - 29s 7ms/step\n"
     ]
    }
   ],
   "source": [
    "predictions =  model.predict(test_df)\n",
    "predictions = predictions.astype(np.float16)"
   ]
  },
  {
   "cell_type": "code",
   "execution_count": 17,
   "id": "405087b1",
   "metadata": {
    "execution": {
     "iopub.execute_input": "2023-07-30T12:38:48.249453Z",
     "iopub.status.busy": "2023-07-30T12:38:48.248609Z",
     "iopub.status.idle": "2023-07-30T12:38:48.723755Z",
     "shell.execute_reply": "2023-07-30T12:38:48.721974Z"
    },
    "papermill": {
     "duration": 0.58975,
     "end_time": "2023-07-30T12:38:48.727692",
     "exception": false,
     "start_time": "2023-07-30T12:38:48.137942",
     "status": "completed"
    },
    "tags": []
   },
   "outputs": [
    {
     "data": {
      "text/plain": [
       "4213"
      ]
     },
     "execution_count": 17,
     "metadata": {},
     "output_type": "execute_result"
    }
   ],
   "source": [
    "del X_train\n",
    "del X_valid\n",
    "del y_train\n",
    "del y_valid\n",
    "del test_df\n",
    "del model\n",
    "del ids\n",
    "gc.collect()"
   ]
  },
  {
   "cell_type": "code",
   "execution_count": 18,
   "id": "047a6117",
   "metadata": {
    "execution": {
     "iopub.execute_input": "2023-07-30T12:38:48.937955Z",
     "iopub.status.busy": "2023-07-30T12:38:48.937080Z",
     "iopub.status.idle": "2023-07-30T12:38:48.942004Z",
     "shell.execute_reply": "2023-07-30T12:38:48.940738Z"
    },
    "papermill": {
     "duration": 0.109029,
     "end_time": "2023-07-30T12:38:48.945390",
     "exception": false,
     "start_time": "2023-07-30T12:38:48.836361",
     "status": "completed"
    },
    "tags": []
   },
   "outputs": [],
   "source": [
    "# chunk_size = 5_000\n",
    "# chunks = [range(i, min(i + chunk_size, len(predictions))) for i in range(0, len(predictions), chunk_size)]"
   ]
  },
  {
   "cell_type": "code",
   "execution_count": 19,
   "id": "0eddbbe5",
   "metadata": {
    "execution": {
     "iopub.execute_input": "2023-07-30T12:38:49.162036Z",
     "iopub.status.busy": "2023-07-30T12:38:49.160315Z",
     "iopub.status.idle": "2023-07-30T12:38:54.481231Z",
     "shell.execute_reply": "2023-07-30T12:38:54.479800Z"
    },
    "papermill": {
     "duration": 5.427185,
     "end_time": "2023-07-30T12:38:54.484353",
     "exception": false,
     "start_time": "2023-07-30T12:38:49.057168",
     "status": "completed"
    },
    "tags": []
   },
   "outputs": [],
   "source": [
    "train_terms = pd.read_csv(\"/kaggle/input/cafa-5-protein-function-prediction/Train/train_terms.tsv\",sep=\"\\t\")\n",
    "test_ids = np.load(\"/kaggle/input/cafa5-dataset/test_id.npy\")\n",
    "labels = train_terms['term'].value_counts().index[:2000].tolist()\n",
    "del train_terms"
   ]
  },
  {
   "cell_type": "code",
   "execution_count": 20,
   "id": "fbeaa042",
   "metadata": {
    "execution": {
     "iopub.execute_input": "2023-07-30T12:38:54.687715Z",
     "iopub.status.busy": "2023-07-30T12:38:54.687121Z",
     "iopub.status.idle": "2023-07-30T13:01:51.840971Z",
     "shell.execute_reply": "2023-07-30T13:01:51.836627Z"
    },
    "papermill": {
     "duration": 1377.268445,
     "end_time": "2023-07-30T13:01:51.852292",
     "exception": false,
     "start_time": "2023-07-30T12:38:54.583847",
     "status": "completed"
    },
    "tags": []
   },
   "outputs": [
    {
     "data": {
      "application/vnd.jupyter.widget-view+json": {
       "model_id": "f7537ff0679941c5b3a17f2aa8f0ea5d",
       "version_major": 2,
       "version_minor": 0
      },
      "text/plain": [
       "Creating Submission...:   0%|          | 0/141865 [00:00<?, ?it/s]"
      ]
     },
     "metadata": {},
     "output_type": "display_data"
    }
   ],
   "source": [
    "df_submission = pd.DataFrame(columns = ['Protein Id', 'GO Term Id','Prediction'])\n",
    "test_protein_ids = np.load('/kaggle/input/cafa5-dataset/test_id.npy')\n",
    "l = []\n",
    "for k in tqdm(list(test_protein_ids), desc = \"Creating Submission...\"):\n",
    "    l += [ k] * predictions.shape[1]   \n",
    "\n",
    "df_submission['Protein Id'] = l\n",
    "df_submission['GO Term Id'] = labels * predictions.shape[0]\n",
    "df_submission['Prediction'] = predictions.ravel()\n",
    "df_submission.to_csv(\"submission.tsv\",header=False, index=False, sep=\"\\t\")"
   ]
  },
  {
   "cell_type": "code",
   "execution_count": 21,
   "id": "eec9f76f",
   "metadata": {
    "execution": {
     "iopub.execute_input": "2023-07-30T13:01:52.078313Z",
     "iopub.status.busy": "2023-07-30T13:01:52.077595Z",
     "iopub.status.idle": "2023-07-30T13:01:52.085798Z",
     "shell.execute_reply": "2023-07-30T13:01:52.084597Z"
    },
    "papermill": {
     "duration": 0.116221,
     "end_time": "2023-07-30T13:01:52.088573",
     "exception": false,
     "start_time": "2023-07-30T13:01:51.972352",
     "status": "completed"
    },
    "tags": []
   },
   "outputs": [],
   "source": [
    "# final_sub = pd.DataFrame()  # Create an empty DataFrame to hold the final result\n",
    "\n",
    "# print(f\"processing {len(chunks)} chunks of {chunk_size} predictions each\")\n",
    "\n",
    "# for chunk in chunks:\n",
    "#     print(f\"processing chunk {chunk}\")\n",
    "#     sub = pd.DataFrame(data=predictions[chunk], columns=list(labels), index=test_ids[chunk])\n",
    "#     sub = sub.T.unstack().reset_index(name='prediction')\n",
    "#     sub = sub.loc[sub['prediction'] > 0]\n",
    "#     final_sub = pd.concat([final_sub, sub])  # Concatenate current chunk DataFrame to the final DataFrame\n",
    "\n",
    "# final_sub.head()"
   ]
  },
  {
   "cell_type": "code",
   "execution_count": 22,
   "id": "07d6f345",
   "metadata": {
    "execution": {
     "iopub.execute_input": "2023-07-30T13:01:52.294114Z",
     "iopub.status.busy": "2023-07-30T13:01:52.293645Z",
     "iopub.status.idle": "2023-07-30T13:01:52.298615Z",
     "shell.execute_reply": "2023-07-30T13:01:52.297643Z"
    },
    "papermill": {
     "duration": 0.109138,
     "end_time": "2023-07-30T13:01:52.302048",
     "exception": false,
     "start_time": "2023-07-30T13:01:52.192910",
     "status": "completed"
    },
    "tags": []
   },
   "outputs": [],
   "source": [
    "# final_sub.shape"
   ]
  },
  {
   "cell_type": "code",
   "execution_count": 23,
   "id": "ae3d08eb",
   "metadata": {
    "execution": {
     "iopub.execute_input": "2023-07-30T13:01:52.526006Z",
     "iopub.status.busy": "2023-07-30T13:01:52.525190Z",
     "iopub.status.idle": "2023-07-30T13:01:52.529732Z",
     "shell.execute_reply": "2023-07-30T13:01:52.528749Z"
    },
    "papermill": {
     "duration": 0.110491,
     "end_time": "2023-07-30T13:01:52.532344",
     "exception": false,
     "start_time": "2023-07-30T13:01:52.421853",
     "status": "completed"
    },
    "tags": []
   },
   "outputs": [],
   "source": [
    "# df_submission = pd.DataFrame(columns = ['Protein Id', 'GO Term Id','Prediction'])\n",
    "# test_protein_ids = np.load(\"/kaggle/input/cafa5-helper/test_id.npy\")\n",
    "# l = []\n",
    "# for k in tqdm(list(test_protein_ids), desc = \"Predicting...\"):\n",
    "#     l += [ k] * predictions.shape[1]   "
   ]
  },
  {
   "cell_type": "code",
   "execution_count": 24,
   "id": "82f22f16",
   "metadata": {
    "execution": {
     "iopub.execute_input": "2023-07-30T13:01:52.731458Z",
     "iopub.status.busy": "2023-07-30T13:01:52.730079Z",
     "iopub.status.idle": "2023-07-30T13:01:52.734811Z",
     "shell.execute_reply": "2023-07-30T13:01:52.734011Z"
    },
    "papermill": {
     "duration": 0.106265,
     "end_time": "2023-07-30T13:01:52.737046",
     "exception": false,
     "start_time": "2023-07-30T13:01:52.630781",
     "status": "completed"
    },
    "tags": []
   },
   "outputs": [],
   "source": [
    "# del test_protein_ids\n",
    "# gc.collect()"
   ]
  },
  {
   "cell_type": "code",
   "execution_count": 25,
   "id": "41b627ae",
   "metadata": {
    "execution": {
     "iopub.execute_input": "2023-07-30T13:01:52.935531Z",
     "iopub.status.busy": "2023-07-30T13:01:52.934236Z",
     "iopub.status.idle": "2023-07-30T13:01:52.940315Z",
     "shell.execute_reply": "2023-07-30T13:01:52.938767Z"
    },
    "papermill": {
     "duration": 0.108807,
     "end_time": "2023-07-30T13:01:52.943044",
     "exception": false,
     "start_time": "2023-07-30T13:01:52.834237",
     "status": "completed"
    },
    "tags": []
   },
   "outputs": [],
   "source": [
    "# train_terms = pd.read_csv(\"/kaggle/input/cafa-5-protein-function-prediction/Train/train_terms.tsv\",sep=\"\\t\")\n",
    "# labels = train_terms['term'].value_counts().index[:5000].tolist()\n",
    "# del train_terms"
   ]
  }
 ],
 "metadata": {
  "kernelspec": {
   "display_name": "Python 3",
   "language": "python",
   "name": "python3"
  },
  "language_info": {
   "codemirror_mode": {
    "name": "ipython",
    "version": 3
   },
   "file_extension": ".py",
   "mimetype": "text/x-python",
   "name": "python",
   "nbconvert_exporter": "python",
   "pygments_lexer": "ipython3",
   "version": "3.10.12"
  },
  "papermill": {
   "default_parameters": {},
   "duration": 1653.354214,
   "end_time": "2023-07-30T13:01:56.786907",
   "environment_variables": {},
   "exception": null,
   "input_path": "__notebook__.ipynb",
   "output_path": "__notebook__.ipynb",
   "parameters": {},
   "start_time": "2023-07-30T12:34:23.432693",
   "version": "2.4.0"
  },
  "widgets": {
   "application/vnd.jupyter.widget-state+json": {
    "state": {
     "0b68f98c233544959fc5dfc6364203f9": {
      "model_module": "@jupyter-widgets/controls",
      "model_module_version": "1.5.0",
      "model_name": "FloatProgressModel",
      "state": {
       "_dom_classes": [],
       "_model_module": "@jupyter-widgets/controls",
       "_model_module_version": "1.5.0",
       "_model_name": "FloatProgressModel",
       "_view_count": null,
       "_view_module": "@jupyter-widgets/controls",
       "_view_module_version": "1.5.0",
       "_view_name": "ProgressView",
       "bar_style": "success",
       "description": "",
       "description_tooltip": null,
       "layout": "IPY_MODEL_82b15b9a095a45018ddd6a5c8610ed8d",
       "max": 141865.0,
       "min": 0.0,
       "orientation": "horizontal",
       "style": "IPY_MODEL_a0cb25e9e8384a6582b9a769ca67ee1c",
       "value": 141865.0
      }
     },
     "48395ad3249748cca7d00ceb9d6c873e": {
      "model_module": "@jupyter-widgets/controls",
      "model_module_version": "1.5.0",
      "model_name": "DescriptionStyleModel",
      "state": {
       "_model_module": "@jupyter-widgets/controls",
       "_model_module_version": "1.5.0",
       "_model_name": "DescriptionStyleModel",
       "_view_count": null,
       "_view_module": "@jupyter-widgets/base",
       "_view_module_version": "1.2.0",
       "_view_name": "StyleView",
       "description_width": ""
      }
     },
     "5ae04c8ed38840f5b17d0a0d6ce76171": {
      "model_module": "@jupyter-widgets/base",
      "model_module_version": "1.2.0",
      "model_name": "LayoutModel",
      "state": {
       "_model_module": "@jupyter-widgets/base",
       "_model_module_version": "1.2.0",
       "_model_name": "LayoutModel",
       "_view_count": null,
       "_view_module": "@jupyter-widgets/base",
       "_view_module_version": "1.2.0",
       "_view_name": "LayoutView",
       "align_content": null,
       "align_items": null,
       "align_self": null,
       "border": null,
       "bottom": null,
       "display": null,
       "flex": null,
       "flex_flow": null,
       "grid_area": null,
       "grid_auto_columns": null,
       "grid_auto_flow": null,
       "grid_auto_rows": null,
       "grid_column": null,
       "grid_gap": null,
       "grid_row": null,
       "grid_template_areas": null,
       "grid_template_columns": null,
       "grid_template_rows": null,
       "height": null,
       "justify_content": null,
       "justify_items": null,
       "left": null,
       "margin": null,
       "max_height": null,
       "max_width": null,
       "min_height": null,
       "min_width": null,
       "object_fit": null,
       "object_position": null,
       "order": null,
       "overflow": null,
       "overflow_x": null,
       "overflow_y": null,
       "padding": null,
       "right": null,
       "top": null,
       "visibility": null,
       "width": null
      }
     },
     "81aba90e2fc742f096d0d4d0dd02feb2": {
      "model_module": "@jupyter-widgets/controls",
      "model_module_version": "1.5.0",
      "model_name": "HTMLModel",
      "state": {
       "_dom_classes": [],
       "_model_module": "@jupyter-widgets/controls",
       "_model_module_version": "1.5.0",
       "_model_name": "HTMLModel",
       "_view_count": null,
       "_view_module": "@jupyter-widgets/controls",
       "_view_module_version": "1.5.0",
       "_view_name": "HTMLView",
       "description": "",
       "description_tooltip": null,
       "layout": "IPY_MODEL_8d0d4b58223a4afc81bf25a0baee63ed",
       "placeholder": "​",
       "style": "IPY_MODEL_ece48b1491d84fa99ef0f512224a03d0",
       "value": " 141865/141865 [00:03&lt;00:00, 39003.18it/s]"
      }
     },
     "82b15b9a095a45018ddd6a5c8610ed8d": {
      "model_module": "@jupyter-widgets/base",
      "model_module_version": "1.2.0",
      "model_name": "LayoutModel",
      "state": {
       "_model_module": "@jupyter-widgets/base",
       "_model_module_version": "1.2.0",
       "_model_name": "LayoutModel",
       "_view_count": null,
       "_view_module": "@jupyter-widgets/base",
       "_view_module_version": "1.2.0",
       "_view_name": "LayoutView",
       "align_content": null,
       "align_items": null,
       "align_self": null,
       "border": null,
       "bottom": null,
       "display": null,
       "flex": null,
       "flex_flow": null,
       "grid_area": null,
       "grid_auto_columns": null,
       "grid_auto_flow": null,
       "grid_auto_rows": null,
       "grid_column": null,
       "grid_gap": null,
       "grid_row": null,
       "grid_template_areas": null,
       "grid_template_columns": null,
       "grid_template_rows": null,
       "height": null,
       "justify_content": null,
       "justify_items": null,
       "left": null,
       "margin": null,
       "max_height": null,
       "max_width": null,
       "min_height": null,
       "min_width": null,
       "object_fit": null,
       "object_position": null,
       "order": null,
       "overflow": null,
       "overflow_x": null,
       "overflow_y": null,
       "padding": null,
       "right": null,
       "top": null,
       "visibility": null,
       "width": null
      }
     },
     "8d0d4b58223a4afc81bf25a0baee63ed": {
      "model_module": "@jupyter-widgets/base",
      "model_module_version": "1.2.0",
      "model_name": "LayoutModel",
      "state": {
       "_model_module": "@jupyter-widgets/base",
       "_model_module_version": "1.2.0",
       "_model_name": "LayoutModel",
       "_view_count": null,
       "_view_module": "@jupyter-widgets/base",
       "_view_module_version": "1.2.0",
       "_view_name": "LayoutView",
       "align_content": null,
       "align_items": null,
       "align_self": null,
       "border": null,
       "bottom": null,
       "display": null,
       "flex": null,
       "flex_flow": null,
       "grid_area": null,
       "grid_auto_columns": null,
       "grid_auto_flow": null,
       "grid_auto_rows": null,
       "grid_column": null,
       "grid_gap": null,
       "grid_row": null,
       "grid_template_areas": null,
       "grid_template_columns": null,
       "grid_template_rows": null,
       "height": null,
       "justify_content": null,
       "justify_items": null,
       "left": null,
       "margin": null,
       "max_height": null,
       "max_width": null,
       "min_height": null,
       "min_width": null,
       "object_fit": null,
       "object_position": null,
       "order": null,
       "overflow": null,
       "overflow_x": null,
       "overflow_y": null,
       "padding": null,
       "right": null,
       "top": null,
       "visibility": null,
       "width": null
      }
     },
     "a0cb25e9e8384a6582b9a769ca67ee1c": {
      "model_module": "@jupyter-widgets/controls",
      "model_module_version": "1.5.0",
      "model_name": "ProgressStyleModel",
      "state": {
       "_model_module": "@jupyter-widgets/controls",
       "_model_module_version": "1.5.0",
       "_model_name": "ProgressStyleModel",
       "_view_count": null,
       "_view_module": "@jupyter-widgets/base",
       "_view_module_version": "1.2.0",
       "_view_name": "StyleView",
       "bar_color": null,
       "description_width": ""
      }
     },
     "ba89c39e7d164400bbe80db61b39a1e7": {
      "model_module": "@jupyter-widgets/controls",
      "model_module_version": "1.5.0",
      "model_name": "HTMLModel",
      "state": {
       "_dom_classes": [],
       "_model_module": "@jupyter-widgets/controls",
       "_model_module_version": "1.5.0",
       "_model_name": "HTMLModel",
       "_view_count": null,
       "_view_module": "@jupyter-widgets/controls",
       "_view_module_version": "1.5.0",
       "_view_name": "HTMLView",
       "description": "",
       "description_tooltip": null,
       "layout": "IPY_MODEL_5ae04c8ed38840f5b17d0a0d6ce76171",
       "placeholder": "​",
       "style": "IPY_MODEL_48395ad3249748cca7d00ceb9d6c873e",
       "value": "Creating Submission...: 100%"
      }
     },
     "ece48b1491d84fa99ef0f512224a03d0": {
      "model_module": "@jupyter-widgets/controls",
      "model_module_version": "1.5.0",
      "model_name": "DescriptionStyleModel",
      "state": {
       "_model_module": "@jupyter-widgets/controls",
       "_model_module_version": "1.5.0",
       "_model_name": "DescriptionStyleModel",
       "_view_count": null,
       "_view_module": "@jupyter-widgets/base",
       "_view_module_version": "1.2.0",
       "_view_name": "StyleView",
       "description_width": ""
      }
     },
     "f24f262aa2da4001b93ca9b6296817b8": {
      "model_module": "@jupyter-widgets/base",
      "model_module_version": "1.2.0",
      "model_name": "LayoutModel",
      "state": {
       "_model_module": "@jupyter-widgets/base",
       "_model_module_version": "1.2.0",
       "_model_name": "LayoutModel",
       "_view_count": null,
       "_view_module": "@jupyter-widgets/base",
       "_view_module_version": "1.2.0",
       "_view_name": "LayoutView",
       "align_content": null,
       "align_items": null,
       "align_self": null,
       "border": null,
       "bottom": null,
       "display": null,
       "flex": null,
       "flex_flow": null,
       "grid_area": null,
       "grid_auto_columns": null,
       "grid_auto_flow": null,
       "grid_auto_rows": null,
       "grid_column": null,
       "grid_gap": null,
       "grid_row": null,
       "grid_template_areas": null,
       "grid_template_columns": null,
       "grid_template_rows": null,
       "height": null,
       "justify_content": null,
       "justify_items": null,
       "left": null,
       "margin": null,
       "max_height": null,
       "max_width": null,
       "min_height": null,
       "min_width": null,
       "object_fit": null,
       "object_position": null,
       "order": null,
       "overflow": null,
       "overflow_x": null,
       "overflow_y": null,
       "padding": null,
       "right": null,
       "top": null,
       "visibility": null,
       "width": null
      }
     },
     "f7537ff0679941c5b3a17f2aa8f0ea5d": {
      "model_module": "@jupyter-widgets/controls",
      "model_module_version": "1.5.0",
      "model_name": "HBoxModel",
      "state": {
       "_dom_classes": [],
       "_model_module": "@jupyter-widgets/controls",
       "_model_module_version": "1.5.0",
       "_model_name": "HBoxModel",
       "_view_count": null,
       "_view_module": "@jupyter-widgets/controls",
       "_view_module_version": "1.5.0",
       "_view_name": "HBoxView",
       "box_style": "",
       "children": [
        "IPY_MODEL_ba89c39e7d164400bbe80db61b39a1e7",
        "IPY_MODEL_0b68f98c233544959fc5dfc6364203f9",
        "IPY_MODEL_81aba90e2fc742f096d0d4d0dd02feb2"
       ],
       "layout": "IPY_MODEL_f24f262aa2da4001b93ca9b6296817b8"
      }
     }
    },
    "version_major": 2,
    "version_minor": 0
   }
  }
 },
 "nbformat": 4,
 "nbformat_minor": 5
}
