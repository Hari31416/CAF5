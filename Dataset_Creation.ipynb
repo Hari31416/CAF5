{
 "cells": [
  {
   "cell_type": "markdown",
   "id": "8e63bb14",
   "metadata": {
    "papermill": {
     "duration": 0.016383,
     "end_time": "2023-07-30T11:42:06.087243",
     "exception": false,
     "start_time": "2023-07-30T11:42:06.070860",
     "status": "completed"
    },
    "tags": []
   },
   "source": [
    "# Imports and Setup"
   ]
  },
  {
   "cell_type": "code",
   "execution_count": 1,
   "id": "c4ff0714",
   "metadata": {
    "_cell_guid": "b1076dfc-b9ad-4769-8c92-a6c4dae69d19",
    "_uuid": "8f2839f25d086af736a60e9eeb907d3b93b6e0e5",
    "execution": {
     "iopub.execute_input": "2023-07-30T11:42:06.118194Z",
     "iopub.status.busy": "2023-07-30T11:42:06.117774Z",
     "iopub.status.idle": "2023-07-30T11:42:07.742452Z",
     "shell.execute_reply": "2023-07-30T11:42:07.741528Z"
    },
    "papermill": {
     "duration": 1.643897,
     "end_time": "2023-07-30T11:42:07.745258",
     "exception": false,
     "start_time": "2023-07-30T11:42:06.101361",
     "status": "completed"
    },
    "tags": []
   },
   "outputs": [],
   "source": [
    "import os\n",
    "import pandas as pd\n",
    "import numpy as np\n",
    "from tqdm import tqdm\n",
    "import time\n",
    "import matplotlib.pyplot as plt\n",
    "import seaborn as sns"
   ]
  },
  {
   "cell_type": "code",
   "execution_count": 2,
   "id": "52d9bbfd",
   "metadata": {
    "execution": {
     "iopub.execute_input": "2023-07-30T11:42:07.774600Z",
     "iopub.status.busy": "2023-07-30T11:42:07.774191Z",
     "iopub.status.idle": "2023-07-30T11:42:07.779067Z",
     "shell.execute_reply": "2023-07-30T11:42:07.777927Z"
    },
    "papermill": {
     "duration": 0.022479,
     "end_time": "2023-07-30T11:42:07.781441",
     "exception": false,
     "start_time": "2023-07-30T11:42:07.758962",
     "status": "completed"
    },
    "tags": []
   },
   "outputs": [],
   "source": [
    "MAIN_DIR = \"/kaggle/input/cafa-5-protein-function-prediction\""
   ]
  },
  {
   "cell_type": "markdown",
   "id": "8bf27f2e",
   "metadata": {},
   "source": [
    "This notebook will create dataset to be used for training. The notebook have to run on Kaggle. The dataset will be saved in the output folder. The dataset will be used for training in the next notebook."
   ]
  },
  {
   "cell_type": "markdown",
   "id": "c2a57f85",
   "metadata": {
    "papermill": {
     "duration": 0.013447,
     "end_time": "2023-07-30T11:42:07.809405",
     "exception": false,
     "start_time": "2023-07-30T11:42:07.795958",
     "status": "completed"
    },
    "tags": []
   },
   "source": [
    "# Creating Labels"
   ]
  },
  {
   "cell_type": "markdown",
   "id": "41a63681",
   "metadata": {
    "papermill": {
     "duration": 0.013462,
     "end_time": "2023-07-30T11:42:07.836912",
     "exception": false,
     "start_time": "2023-07-30T11:42:07.823450",
     "status": "completed"
    },
    "tags": []
   },
   "source": [
    "Let's start by loading the terms and IDs. Terms will be loaded from the competition dataset. The IDs are available along with the embeddings. We will use `t5embeds` for IDs."
   ]
  },
  {
   "cell_type": "code",
   "execution_count": 3,
   "id": "2ae83568",
   "metadata": {
    "execution": {
     "iopub.execute_input": "2023-07-30T11:42:07.867369Z",
     "iopub.status.busy": "2023-07-30T11:42:07.866940Z",
     "iopub.status.idle": "2023-07-30T11:42:12.341745Z",
     "shell.execute_reply": "2023-07-30T11:42:12.340716Z"
    },
    "papermill": {
     "duration": 4.493188,
     "end_time": "2023-07-30T11:42:12.344379",
     "exception": false,
     "start_time": "2023-07-30T11:42:07.851191",
     "status": "completed"
    },
    "tags": []
   },
   "outputs": [
    {
     "name": "stdout",
     "output_type": "stream",
     "text": [
      "(5363863, 3)\n"
     ]
    }
   ],
   "source": [
    "train_terms = pd.read_csv( os.path.join(MAIN_DIR, \"Train\", \"train_terms.tsv\"),sep=\"\\t\")\n",
    "print(train_terms.shape)"
   ]
  },
  {
   "cell_type": "code",
   "execution_count": 4,
   "id": "ecd48db6",
   "metadata": {
    "execution": {
     "iopub.execute_input": "2023-07-30T11:42:12.374080Z",
     "iopub.status.busy": "2023-07-30T11:42:12.373648Z",
     "iopub.status.idle": "2023-07-30T11:42:12.397273Z",
     "shell.execute_reply": "2023-07-30T11:42:12.396078Z"
    },
    "papermill": {
     "duration": 0.041628,
     "end_time": "2023-07-30T11:42:12.399862",
     "exception": false,
     "start_time": "2023-07-30T11:42:12.358234",
     "status": "completed"
    },
    "tags": []
   },
   "outputs": [
    {
     "data": {
      "text/html": [
       "<div>\n",
       "<style scoped>\n",
       "    .dataframe tbody tr th:only-of-type {\n",
       "        vertical-align: middle;\n",
       "    }\n",
       "\n",
       "    .dataframe tbody tr th {\n",
       "        vertical-align: top;\n",
       "    }\n",
       "\n",
       "    .dataframe thead th {\n",
       "        text-align: right;\n",
       "    }\n",
       "</style>\n",
       "<table border=\"1\" class=\"dataframe\">\n",
       "  <thead>\n",
       "    <tr style=\"text-align: right;\">\n",
       "      <th></th>\n",
       "      <th>EntryID</th>\n",
       "      <th>term</th>\n",
       "      <th>aspect</th>\n",
       "    </tr>\n",
       "  </thead>\n",
       "  <tbody>\n",
       "    <tr>\n",
       "      <th>0</th>\n",
       "      <td>A0A009IHW8</td>\n",
       "      <td>GO:0008152</td>\n",
       "      <td>BPO</td>\n",
       "    </tr>\n",
       "    <tr>\n",
       "      <th>1</th>\n",
       "      <td>A0A009IHW8</td>\n",
       "      <td>GO:0034655</td>\n",
       "      <td>BPO</td>\n",
       "    </tr>\n",
       "    <tr>\n",
       "      <th>2</th>\n",
       "      <td>A0A009IHW8</td>\n",
       "      <td>GO:0072523</td>\n",
       "      <td>BPO</td>\n",
       "    </tr>\n",
       "    <tr>\n",
       "      <th>3</th>\n",
       "      <td>A0A009IHW8</td>\n",
       "      <td>GO:0044270</td>\n",
       "      <td>BPO</td>\n",
       "    </tr>\n",
       "    <tr>\n",
       "      <th>4</th>\n",
       "      <td>A0A009IHW8</td>\n",
       "      <td>GO:0006753</td>\n",
       "      <td>BPO</td>\n",
       "    </tr>\n",
       "  </tbody>\n",
       "</table>\n",
       "</div>"
      ],
      "text/plain": [
       "      EntryID        term aspect\n",
       "0  A0A009IHW8  GO:0008152    BPO\n",
       "1  A0A009IHW8  GO:0034655    BPO\n",
       "2  A0A009IHW8  GO:0072523    BPO\n",
       "3  A0A009IHW8  GO:0044270    BPO\n",
       "4  A0A009IHW8  GO:0006753    BPO"
      ]
     },
     "execution_count": 4,
     "metadata": {},
     "output_type": "execute_result"
    }
   ],
   "source": [
    "train_terms.head()"
   ]
  },
  {
   "cell_type": "code",
   "execution_count": 5,
   "id": "bbe0ba2a",
   "metadata": {
    "execution": {
     "iopub.execute_input": "2023-07-30T11:42:12.430245Z",
     "iopub.status.busy": "2023-07-30T11:42:12.429821Z",
     "iopub.status.idle": "2023-07-30T11:42:12.520868Z",
     "shell.execute_reply": "2023-07-30T11:42:12.519688Z"
    },
    "papermill": {
     "duration": 0.109255,
     "end_time": "2023-07-30T11:42:12.523483",
     "exception": false,
     "start_time": "2023-07-30T11:42:12.414228",
     "status": "completed"
    },
    "tags": []
   },
   "outputs": [
    {
     "name": "stdout",
     "output_type": "stream",
     "text": [
      "142246\n"
     ]
    },
    {
     "data": {
      "text/html": [
       "<div>\n",
       "<style scoped>\n",
       "    .dataframe tbody tr th:only-of-type {\n",
       "        vertical-align: middle;\n",
       "    }\n",
       "\n",
       "    .dataframe tbody tr th {\n",
       "        vertical-align: top;\n",
       "    }\n",
       "\n",
       "    .dataframe thead th {\n",
       "        text-align: right;\n",
       "    }\n",
       "</style>\n",
       "<table border=\"1\" class=\"dataframe\">\n",
       "  <thead>\n",
       "    <tr style=\"text-align: right;\">\n",
       "      <th></th>\n",
       "      <th>EntryID</th>\n",
       "    </tr>\n",
       "  </thead>\n",
       "  <tbody>\n",
       "    <tr>\n",
       "      <th>0</th>\n",
       "      <td>P20536</td>\n",
       "    </tr>\n",
       "    <tr>\n",
       "      <th>1</th>\n",
       "      <td>O73864</td>\n",
       "    </tr>\n",
       "    <tr>\n",
       "      <th>2</th>\n",
       "      <td>O95231</td>\n",
       "    </tr>\n",
       "    <tr>\n",
       "      <th>3</th>\n",
       "      <td>A0A0B4J1F4</td>\n",
       "    </tr>\n",
       "    <tr>\n",
       "      <th>4</th>\n",
       "      <td>P54366</td>\n",
       "    </tr>\n",
       "  </tbody>\n",
       "</table>\n",
       "</div>"
      ],
      "text/plain": [
       "      EntryID\n",
       "0      P20536\n",
       "1      O73864\n",
       "2      O95231\n",
       "3  A0A0B4J1F4\n",
       "4      P54366"
      ]
     },
     "execution_count": 5,
     "metadata": {},
     "output_type": "execute_result"
    }
   ],
   "source": [
    "train_protein_ids = np.load('/kaggle/input/t5embeds/train_ids.npy')\n",
    "train_protein_ids_df = pd.DataFrame({\"EntryID\":train_protein_ids})\n",
    "print(len(train_protein_ids_df))\n",
    "train_protein_ids_df.head()"
   ]
  },
  {
   "cell_type": "markdown",
   "id": "e1d212c2",
   "metadata": {
    "papermill": {
     "duration": 0.013818,
     "end_time": "2023-07-30T11:42:12.551645",
     "exception": false,
     "start_time": "2023-07-30T11:42:12.537827",
     "status": "completed"
    },
    "tags": []
   },
   "source": [
    "We can see that the `train_terms` has far more rows than the IDs. This is because there are more than one GO term for a fiven ID. We will groupby the `EntryID`:"
   ]
  },
  {
   "cell_type": "code",
   "execution_count": 6,
   "id": "d26dddea",
   "metadata": {
    "execution": {
     "iopub.execute_input": "2023-07-30T11:42:12.581925Z",
     "iopub.status.busy": "2023-07-30T11:42:12.581482Z",
     "iopub.status.idle": "2023-07-30T11:42:24.810525Z",
     "shell.execute_reply": "2023-07-30T11:42:24.809343Z"
    },
    "papermill": {
     "duration": 12.247302,
     "end_time": "2023-07-30T11:42:24.813264",
     "exception": false,
     "start_time": "2023-07-30T11:42:12.565962",
     "status": "completed"
    },
    "tags": []
   },
   "outputs": [
    {
     "data": {
      "text/plain": [
       "Index(['EntryID', 'term', 'aspect'], dtype='object')"
      ]
     },
     "execution_count": 6,
     "metadata": {},
     "output_type": "execute_result"
    }
   ],
   "source": [
    "train_terms_g = train_terms.groupby(\"EntryID\").agg({\n",
    "    \"term\": lambda x: \",\".join(x),\n",
    "    \"aspect\": lambda x: \", \".join(set(x))\n",
    "})\n",
    "train_terms_g.reset_index(drop=False, inplace=True)\n",
    "train_terms_g.columns"
   ]
  },
  {
   "cell_type": "code",
   "execution_count": 7,
   "id": "3507201f",
   "metadata": {
    "execution": {
     "iopub.execute_input": "2023-07-30T11:42:24.844639Z",
     "iopub.status.busy": "2023-07-30T11:42:24.843479Z",
     "iopub.status.idle": "2023-07-30T11:42:24.856752Z",
     "shell.execute_reply": "2023-07-30T11:42:24.855245Z"
    },
    "papermill": {
     "duration": 0.031568,
     "end_time": "2023-07-30T11:42:24.859358",
     "exception": false,
     "start_time": "2023-07-30T11:42:24.827790",
     "status": "completed"
    },
    "tags": []
   },
   "outputs": [
    {
     "data": {
      "text/html": [
       "<div>\n",
       "<style scoped>\n",
       "    .dataframe tbody tr th:only-of-type {\n",
       "        vertical-align: middle;\n",
       "    }\n",
       "\n",
       "    .dataframe tbody tr th {\n",
       "        vertical-align: top;\n",
       "    }\n",
       "\n",
       "    .dataframe thead th {\n",
       "        text-align: right;\n",
       "    }\n",
       "</style>\n",
       "<table border=\"1\" class=\"dataframe\">\n",
       "  <thead>\n",
       "    <tr style=\"text-align: right;\">\n",
       "      <th></th>\n",
       "      <th>EntryID</th>\n",
       "      <th>term</th>\n",
       "      <th>aspect</th>\n",
       "    </tr>\n",
       "  </thead>\n",
       "  <tbody>\n",
       "    <tr>\n",
       "      <th>0</th>\n",
       "      <td>A0A009IHW8</td>\n",
       "      <td>GO:0008152,GO:0034655,GO:0072523,GO:0044270,GO...</td>\n",
       "      <td>BPO, MFO</td>\n",
       "    </tr>\n",
       "    <tr>\n",
       "      <th>1</th>\n",
       "      <td>A0A021WW32</td>\n",
       "      <td>GO:0048869,GO:0048856,GO:0022008,GO:0065007,GO...</td>\n",
       "      <td>CCO, BPO</td>\n",
       "    </tr>\n",
       "    <tr>\n",
       "      <th>2</th>\n",
       "      <td>A0A021WZA4</td>\n",
       "      <td>GO:0071944,GO:0005575,GO:0110165,GO:0016020,GO...</td>\n",
       "      <td>CCO</td>\n",
       "    </tr>\n",
       "    <tr>\n",
       "      <th>3</th>\n",
       "      <td>A0A023FBW4</td>\n",
       "      <td>GO:0019956,GO:0005488,GO:0003674,GO:0019955,GO...</td>\n",
       "      <td>MFO</td>\n",
       "    </tr>\n",
       "    <tr>\n",
       "      <th>4</th>\n",
       "      <td>A0A023FBW7</td>\n",
       "      <td>GO:0019957,GO:0019956,GO:0005488,GO:0003674,GO...</td>\n",
       "      <td>MFO</td>\n",
       "    </tr>\n",
       "  </tbody>\n",
       "</table>\n",
       "</div>"
      ],
      "text/plain": [
       "      EntryID                                               term    aspect\n",
       "0  A0A009IHW8  GO:0008152,GO:0034655,GO:0072523,GO:0044270,GO...  BPO, MFO\n",
       "1  A0A021WW32  GO:0048869,GO:0048856,GO:0022008,GO:0065007,GO...  CCO, BPO\n",
       "2  A0A021WZA4  GO:0071944,GO:0005575,GO:0110165,GO:0016020,GO...       CCO\n",
       "3  A0A023FBW4  GO:0019956,GO:0005488,GO:0003674,GO:0019955,GO...       MFO\n",
       "4  A0A023FBW7  GO:0019957,GO:0019956,GO:0005488,GO:0003674,GO...       MFO"
      ]
     },
     "execution_count": 7,
     "metadata": {},
     "output_type": "execute_result"
    }
   ],
   "source": [
    "train_terms_g.head()"
   ]
  },
  {
   "cell_type": "markdown",
   "id": "f4e337ae",
   "metadata": {
    "papermill": {
     "duration": 0.014304,
     "end_time": "2023-07-30T11:42:24.888227",
     "exception": false,
     "start_time": "2023-07-30T11:42:24.873923",
     "status": "completed"
    },
    "tags": []
   },
   "source": [
    "Next, merge the two dataframes on `EntryID`:"
   ]
  },
  {
   "cell_type": "code",
   "execution_count": 8,
   "id": "bd5eb23c",
   "metadata": {
    "execution": {
     "iopub.execute_input": "2023-07-30T11:42:24.919956Z",
     "iopub.status.busy": "2023-07-30T11:42:24.919553Z",
     "iopub.status.idle": "2023-07-30T11:42:25.158909Z",
     "shell.execute_reply": "2023-07-30T11:42:25.157577Z"
    },
    "papermill": {
     "duration": 0.259128,
     "end_time": "2023-07-30T11:42:25.161916",
     "exception": false,
     "start_time": "2023-07-30T11:42:24.902788",
     "status": "completed"
    },
    "tags": []
   },
   "outputs": [],
   "source": [
    "train_protein_ids_df_ = pd.merge(train_protein_ids_df, train_terms_g, on = \"EntryID\", how=\"inner\")"
   ]
  },
  {
   "cell_type": "markdown",
   "id": "ebc74f68",
   "metadata": {
    "papermill": {
     "duration": 0.015061,
     "end_time": "2023-07-30T11:42:25.191514",
     "exception": false,
     "start_time": "2023-07-30T11:42:25.176453",
     "status": "completed"
    },
    "tags": []
   },
   "source": [
    "We will make sure that the entry IDs are in the same order as the embeddings are in this order."
   ]
  },
  {
   "cell_type": "code",
   "execution_count": 9,
   "id": "98ff3250",
   "metadata": {
    "execution": {
     "iopub.execute_input": "2023-07-30T11:42:25.224145Z",
     "iopub.status.busy": "2023-07-30T11:42:25.222907Z",
     "iopub.status.idle": "2023-07-30T11:42:25.260843Z",
     "shell.execute_reply": "2023-07-30T11:42:25.259609Z"
    },
    "papermill": {
     "duration": 0.057562,
     "end_time": "2023-07-30T11:42:25.263899",
     "exception": false,
     "start_time": "2023-07-30T11:42:25.206337",
     "status": "completed"
    },
    "tags": []
   },
   "outputs": [],
   "source": [
    "#make sure that the entry IDS are in the same order\n",
    "assert np.all(train_protein_ids_df_[\"EntryID\"] == train_protein_ids_df[\"EntryID\"])"
   ]
  },
  {
   "cell_type": "code",
   "execution_count": 10,
   "id": "7ffe7446",
   "metadata": {
    "execution": {
     "iopub.execute_input": "2023-07-30T11:42:25.294892Z",
     "iopub.status.busy": "2023-07-30T11:42:25.294455Z",
     "iopub.status.idle": "2023-07-30T11:42:25.305791Z",
     "shell.execute_reply": "2023-07-30T11:42:25.304869Z"
    },
    "papermill": {
     "duration": 0.029737,
     "end_time": "2023-07-30T11:42:25.308243",
     "exception": false,
     "start_time": "2023-07-30T11:42:25.278506",
     "status": "completed"
    },
    "tags": []
   },
   "outputs": [
    {
     "data": {
      "text/html": [
       "<div>\n",
       "<style scoped>\n",
       "    .dataframe tbody tr th:only-of-type {\n",
       "        vertical-align: middle;\n",
       "    }\n",
       "\n",
       "    .dataframe tbody tr th {\n",
       "        vertical-align: top;\n",
       "    }\n",
       "\n",
       "    .dataframe thead th {\n",
       "        text-align: right;\n",
       "    }\n",
       "</style>\n",
       "<table border=\"1\" class=\"dataframe\">\n",
       "  <thead>\n",
       "    <tr style=\"text-align: right;\">\n",
       "      <th></th>\n",
       "      <th>EntryID</th>\n",
       "      <th>term</th>\n",
       "      <th>aspect</th>\n",
       "    </tr>\n",
       "  </thead>\n",
       "  <tbody>\n",
       "    <tr>\n",
       "      <th>0</th>\n",
       "      <td>P20536</td>\n",
       "      <td>GO:0008152,GO:0071897,GO:0044249,GO:0006259,GO...</td>\n",
       "      <td>BPO, MFO</td>\n",
       "    </tr>\n",
       "    <tr>\n",
       "      <th>1</th>\n",
       "      <td>O73864</td>\n",
       "      <td>GO:0061371,GO:0048589,GO:0051641,GO:0048856,GO...</td>\n",
       "      <td>CCO, BPO, MFO</td>\n",
       "    </tr>\n",
       "    <tr>\n",
       "      <th>2</th>\n",
       "      <td>O95231</td>\n",
       "      <td>GO:0006357,GO:0010557,GO:0045935,GO:0065007,GO...</td>\n",
       "      <td>CCO, BPO, MFO</td>\n",
       "    </tr>\n",
       "    <tr>\n",
       "      <th>3</th>\n",
       "      <td>A0A0B4J1F4</td>\n",
       "      <td>GO:0008152,GO:0051234,GO:0036211,GO:0070727,GO...</td>\n",
       "      <td>CCO, BPO, MFO</td>\n",
       "    </tr>\n",
       "    <tr>\n",
       "      <th>4</th>\n",
       "      <td>P54366</td>\n",
       "      <td>GO:0005622,GO:0043229,GO:0043226,GO:0110165,GO...</td>\n",
       "      <td>CCO, MFO</td>\n",
       "    </tr>\n",
       "  </tbody>\n",
       "</table>\n",
       "</div>"
      ],
      "text/plain": [
       "      EntryID                                               term  \\\n",
       "0      P20536  GO:0008152,GO:0071897,GO:0044249,GO:0006259,GO...   \n",
       "1      O73864  GO:0061371,GO:0048589,GO:0051641,GO:0048856,GO...   \n",
       "2      O95231  GO:0006357,GO:0010557,GO:0045935,GO:0065007,GO...   \n",
       "3  A0A0B4J1F4  GO:0008152,GO:0051234,GO:0036211,GO:0070727,GO...   \n",
       "4      P54366  GO:0005622,GO:0043229,GO:0043226,GO:0110165,GO...   \n",
       "\n",
       "          aspect  \n",
       "0       BPO, MFO  \n",
       "1  CCO, BPO, MFO  \n",
       "2  CCO, BPO, MFO  \n",
       "3  CCO, BPO, MFO  \n",
       "4       CCO, MFO  "
      ]
     },
     "execution_count": 10,
     "metadata": {},
     "output_type": "execute_result"
    }
   ],
   "source": [
    "train_protein_ids_df_.head()"
   ]
  },
  {
   "cell_type": "code",
   "execution_count": 11,
   "id": "9af12b06",
   "metadata": {
    "execution": {
     "iopub.execute_input": "2023-07-30T11:42:25.340434Z",
     "iopub.status.busy": "2023-07-30T11:42:25.339955Z",
     "iopub.status.idle": "2023-07-30T11:42:25.909131Z",
     "shell.execute_reply": "2023-07-30T11:42:25.908182Z"
    },
    "papermill": {
     "duration": 0.588392,
     "end_time": "2023-07-30T11:42:25.911593",
     "exception": false,
     "start_time": "2023-07-30T11:42:25.323201",
     "status": "completed"
    },
    "tags": []
   },
   "outputs": [
    {
     "data": {
      "text/plain": [
       "31466"
      ]
     },
     "execution_count": 11,
     "metadata": {},
     "output_type": "execute_result"
    }
   ],
   "source": [
    "train_terms[\"term\"].nunique()"
   ]
  },
  {
   "cell_type": "markdown",
   "id": "c4d4b7de",
   "metadata": {
    "papermill": {
     "duration": 0.014856,
     "end_time": "2023-07-30T11:42:25.941499",
     "exception": false,
     "start_time": "2023-07-30T11:42:25.926643",
     "status": "completed"
    },
    "tags": []
   },
   "source": [
    "There are 31466 different GO terms. We will not be using all the terms as some of them are very rare. Let's try to visualize how many terms will be sufficient for our case."
   ]
  },
  {
   "cell_type": "code",
   "execution_count": 12,
   "id": "3da76820",
   "metadata": {
    "execution": {
     "iopub.execute_input": "2023-07-30T11:42:25.974100Z",
     "iopub.status.busy": "2023-07-30T11:42:25.973693Z",
     "iopub.status.idle": "2023-07-30T11:42:27.039796Z",
     "shell.execute_reply": "2023-07-30T11:42:27.038581Z"
    },
    "papermill": {
     "duration": 1.086559,
     "end_time": "2023-07-30T11:42:27.043216",
     "exception": false,
     "start_time": "2023-07-30T11:42:25.956657",
     "status": "completed"
    },
    "tags": []
   },
   "outputs": [
    {
     "data": {
      "text/plain": [
       "GO:0005575      1.732184\n",
       "GO:0008150      3.451281\n",
       "GO:0110165      5.153152\n",
       "GO:0003674      6.619203\n",
       "GO:0005622      7.938868\n",
       "                 ...    \n",
       "GO:0031772     99.999925\n",
       "GO:0042324     99.999944\n",
       "GO:0031771     99.999963\n",
       "GO:0051041     99.999981\n",
       "GO:0102628    100.000000\n",
       "Name: term, Length: 31466, dtype: float64"
      ]
     },
     "execution_count": 12,
     "metadata": {},
     "output_type": "execute_result"
    }
   ],
   "source": [
    "term_counts = train_terms[\"term\"].value_counts()\n",
    "term_count_percentage = (term_counts/len(train_terms))*100\n",
    "term_count_percentage_cumsum = term_count_percentage.cumsum()\n",
    "term_count_percentage_cumsum"
   ]
  },
  {
   "cell_type": "code",
   "execution_count": 13,
   "id": "203ecb59",
   "metadata": {
    "execution": {
     "iopub.execute_input": "2023-07-30T11:42:27.088721Z",
     "iopub.status.busy": "2023-07-30T11:42:27.088048Z",
     "iopub.status.idle": "2023-07-30T11:42:27.444552Z",
     "shell.execute_reply": "2023-07-30T11:42:27.443319Z"
    },
    "papermill": {
     "duration": 0.382832,
     "end_time": "2023-07-30T11:42:27.447628",
     "exception": false,
     "start_time": "2023-07-30T11:42:27.064796",
     "status": "completed"
    },
    "tags": []
   },
   "outputs": [
    {
     "data": {
      "image/png": "[encoded data removed]",
      "text/plain": [
       "<Figure size 640x480 with 1 Axes>"
      ]
     },
     "metadata": {},
     "output_type": "display_data"
    }
   ],
   "source": [
    "plt.plot(term_count_percentage_cumsum.values, range(len(term_counts)))\n",
    "plt.xlabel(\"Percentage of Entry ID\")\n",
    "plt.ylabel(\"Number of GO Terms\");"
   ]
  },
  {
   "cell_type": "markdown",
   "id": "fb9ff58e",
   "metadata": {
    "papermill": {
     "duration": 0.015878,
     "end_time": "2023-07-30T11:42:27.483406",
     "exception": false,
     "start_time": "2023-07-30T11:42:27.467528",
     "status": "completed"
    },
    "tags": []
   },
   "source": [
    "We can see that the percentage rises, the number of GO terms required rises very slowly for about 90% and then a large number of GO terms are required to cover even 1% of the IDs. We can set a threshold, say 90%, and take only those GO terms that are necessary for explianing this threshold."
   ]
  },
  {
   "cell_type": "code",
   "execution_count": 14,
   "id": "42ac0b07",
   "metadata": {
    "execution": {
     "iopub.execute_input": "2023-07-30T11:42:27.517762Z",
     "iopub.status.busy": "2023-07-30T11:42:27.516511Z",
     "iopub.status.idle": "2023-07-30T11:42:27.525610Z",
     "shell.execute_reply": "2023-07-30T11:42:27.524522Z"
    },
    "papermill": {
     "duration": 0.029263,
     "end_time": "2023-07-30T11:42:27.528373",
     "exception": false,
     "start_time": "2023-07-30T11:42:27.499110",
     "status": "completed"
    },
    "tags": []
   },
   "outputs": [
    {
     "data": {
      "text/plain": [
       "2054"
      ]
     },
     "execution_count": 14,
     "metadata": {},
     "output_type": "execute_result"
    }
   ],
   "source": [
    "threshold = 86\n",
    "total_terms_required = (term_count_percentage_cumsum<=threshold).sum()\n",
    "total_terms_required"
   ]
  },
  {
   "cell_type": "markdown",
   "id": "c9f91def",
   "metadata": {
    "papermill": {
     "duration": 0.015466,
     "end_time": "2023-07-30T11:42:27.560517",
     "exception": false,
     "start_time": "2023-07-30T11:42:27.545051",
     "status": "completed"
    },
    "tags": []
   },
   "source": [
    "Based on this, we will be using 2000 GO terms for our case which explains about 86% of IDs."
   ]
  },
  {
   "cell_type": "markdown",
   "id": "204f9b85",
   "metadata": {
    "papermill": {
     "duration": 0.015671,
     "end_time": "2023-07-30T11:42:27.592467",
     "exception": false,
     "start_time": "2023-07-30T11:42:27.576796",
     "status": "completed"
    },
    "tags": []
   },
   "source": [
    "> Note that we can not choose a lot of GO terms as while submitting, we have to submit the probabilities for all the selected GO terms. If a large terms are selected, it will result in a large file that might not fit in memory."
   ]
  },
  {
   "cell_type": "code",
   "execution_count": 15,
   "id": "a8aa52b3",
   "metadata": {
    "execution": {
     "iopub.execute_input": "2023-07-30T11:42:27.627305Z",
     "iopub.status.busy": "2023-07-30T11:42:27.626111Z",
     "iopub.status.idle": "2023-07-30T11:42:28.667459Z",
     "shell.execute_reply": "2023-07-30T11:42:28.666093Z"
    },
    "papermill": {
     "duration": 1.061612,
     "end_time": "2023-07-30T11:42:28.670253",
     "exception": false,
     "start_time": "2023-07-30T11:42:27.608641",
     "status": "completed"
    },
    "tags": []
   },
   "outputs": [
    {
     "data": {
      "text/plain": [
       "((2000,),\n",
       " array(['GO:0005575', 'GO:0008150', 'GO:0110165', ..., 'GO:0005746',\n",
       "        'GO:0050866', 'GO:0008589'], dtype='<U10'))"
      ]
     },
     "execution_count": 15,
     "metadata": {},
     "output_type": "execute_result"
    }
   ],
   "source": [
    "# Set the limit for label\n",
    "num_of_labels = 2000\n",
    "\n",
    "# Take value counts in descending order and fetch first 5000 `GO term ID` as labels\n",
    "labels = train_terms['term'].value_counts().index[:num_of_labels].tolist()\n",
    "labels = np.array(labels)\n",
    "labels.shape, labels"
   ]
  },
  {
   "cell_type": "markdown",
   "id": "c767830d",
   "metadata": {
    "papermill": {
     "duration": 0.016161,
     "end_time": "2023-07-30T11:42:28.703104",
     "exception": false,
     "start_time": "2023-07-30T11:42:28.686943",
     "status": "completed"
    },
    "tags": []
   },
   "source": [
    "Now, we are ready to create the matrix of labels. This will have a shape of $(m, n)$, where $m$ is the number of samples, in our case $142246$ and $n$ is the number of GO terms, in our case $5000$. This will be a sparse matrix, filled with zeroes except where the GO term is. The following loop calculates this."
   ]
  },
  {
   "cell_type": "code",
   "execution_count": 16,
   "id": "1199ecda",
   "metadata": {
    "execution": {
     "iopub.execute_input": "2023-07-30T11:42:28.737322Z",
     "iopub.status.busy": "2023-07-30T11:42:28.736931Z",
     "iopub.status.idle": "2023-07-30T11:46:43.215618Z",
     "shell.execute_reply": "2023-07-30T11:46:43.214393Z"
    },
    "papermill": {
     "duration": 254.498708,
     "end_time": "2023-07-30T11:46:43.218328",
     "exception": false,
     "start_time": "2023-07-30T11:42:28.719620",
     "status": "completed"
    },
    "tags": []
   },
   "outputs": [
    {
     "name": "stderr",
     "output_type": "stream",
     "text": [
      "Calculating labels...: 100%|██████████| 142246/142246 [04:14<00:00, 559.00it/s]\n"
     ]
    }
   ],
   "source": [
    "one_hot_labels = np.zeros((train_protein_ids_df_.shape[0], num_of_labels))\n",
    "for i in tqdm(range(len(train_protein_ids_df_)), \"Calculating labels...\"):\n",
    "    ls = train_protein_ids_df_.loc[i, \"term\"]\n",
    "    for l in ls.split(\",\"):\n",
    "        one_hot_labels[i, :] += (labels == l).astype(float)"
   ]
  },
  {
   "cell_type": "code",
   "execution_count": 17,
   "id": "50328948",
   "metadata": {
    "execution": {
     "iopub.execute_input": "2023-07-30T11:46:43.697178Z",
     "iopub.status.busy": "2023-07-30T11:46:43.696758Z",
     "iopub.status.idle": "2023-07-30T11:46:43.928724Z",
     "shell.execute_reply": "2023-07-30T11:46:43.927472Z"
    },
    "papermill": {
     "duration": 0.467159,
     "end_time": "2023-07-30T11:46:43.931103",
     "exception": false,
     "start_time": "2023-07-30T11:46:43.463944",
     "status": "completed"
    },
    "tags": []
   },
   "outputs": [
    {
     "name": "stdout",
     "output_type": "stream",
     "text": [
      "(142246, 2000)\n"
     ]
    },
    {
     "data": {
      "text/plain": [
       "array([ 31., 140.,  62., ...,  31.,  91.,  20.])"
      ]
     },
     "execution_count": 17,
     "metadata": {},
     "output_type": "execute_result"
    }
   ],
   "source": [
    "print(one_hot_labels.shape)\n",
    "one_hot_labels.sum(axis = 1)"
   ]
  },
  {
   "cell_type": "markdown",
   "id": "b7b0c2b7",
   "metadata": {
    "papermill": {
     "duration": 0.227479,
     "end_time": "2023-07-30T11:46:44.386707",
     "exception": false,
     "start_time": "2023-07-30T11:46:44.159228",
     "status": "completed"
    },
    "tags": []
   },
   "source": [
    "We can see that the first entry has 33 GO terms, second 162, third 62 and so on. This will be our labels. Let's save it. We will also add the EntryID as the ID has different order for different embeddings."
   ]
  },
  {
   "cell_type": "code",
   "execution_count": 18,
   "id": "9bbd1b61",
   "metadata": {
    "execution": {
     "iopub.execute_input": "2023-07-30T11:46:44.914835Z",
     "iopub.status.busy": "2023-07-30T11:46:44.914393Z",
     "iopub.status.idle": "2023-07-30T11:46:45.024510Z",
     "shell.execute_reply": "2023-07-30T11:46:45.023368Z"
    },
    "papermill": {
     "duration": 0.342964,
     "end_time": "2023-07-30T11:46:45.027528",
     "exception": false,
     "start_time": "2023-07-30T11:46:44.684564",
     "status": "completed"
    },
    "tags": []
   },
   "outputs": [
    {
     "name": "stdout",
     "output_type": "stream",
     "text": [
      "<class 'pandas.core.frame.DataFrame'>\n",
      "RangeIndex: 142246 entries, 0 to 142245\n",
      "Columns: 2001 entries, GO:0005575 to EntryID\n",
      "dtypes: float64(2000), object(1)\n",
      "memory usage: 2.1+ GB\n"
     ]
    }
   ],
   "source": [
    "final_labels = pd.DataFrame(one_hot_labels, columns = labels)\n",
    "final_labels[\"EntryID\"] = train_protein_ids_df\n",
    "final_labels.info()"
   ]
  },
  {
   "cell_type": "code",
   "execution_count": 19,
   "id": "822de504",
   "metadata": {
    "execution": {
     "iopub.execute_input": "2023-07-30T11:46:45.487875Z",
     "iopub.status.busy": "2023-07-30T11:46:45.486796Z",
     "iopub.status.idle": "2023-07-30T11:47:10.308774Z",
     "shell.execute_reply": "2023-07-30T11:47:10.307672Z"
    },
    "papermill": {
     "duration": 25.053685,
     "end_time": "2023-07-30T11:47:10.311492",
     "exception": false,
     "start_time": "2023-07-30T11:46:45.257807",
     "status": "completed"
    },
    "tags": []
   },
   "outputs": [],
   "source": [
    "final_labels.to_parquet(\"final_train_labels.parquet\", index = False)"
   ]
  },
  {
   "cell_type": "markdown",
   "id": "dcede345",
   "metadata": {
    "papermill": {
     "duration": 0.250749,
     "end_time": "2023-07-30T11:47:10.808276",
     "exception": false,
     "start_time": "2023-07-30T11:47:10.557527",
     "status": "completed"
    },
    "tags": []
   },
   "source": [
    "We have used `parquet` to save the data because the labels are very sparse and saving them in parquet will result in a very small file size as compared to saving them in CSV. Just try it, if you don't believe me!"
   ]
  },
  {
   "cell_type": "markdown",
   "id": "16516d50",
   "metadata": {
    "papermill": {
     "duration": 0.229244,
     "end_time": "2023-07-30T11:47:11.267755",
     "exception": false,
     "start_time": "2023-07-30T11:47:11.038511",
     "status": "completed"
    },
    "tags": []
   },
   "source": [
    "# The Embeddings"
   ]
  },
  {
   "cell_type": "markdown",
   "id": "10f1208d",
   "metadata": {
    "papermill": {
     "duration": 0.22909,
     "end_time": "2023-07-30T11:47:11.725767",
     "exception": false,
     "start_time": "2023-07-30T11:47:11.496677",
     "status": "completed"
    },
    "tags": []
   },
   "source": [
    "Now that we have the labels, we only need embeddings. We will be using the embeddings:\n",
    "\n",
    "- T5 : https://www.kaggle.com/datasets/sergeifironov/t5embeds\n",
    "\n",
    "- ProtBERT : https://www.kaggle.com/datasets/henriupton/protbert-embeddings-for-cafa5\n",
    "\n",
    "- EMS2 : https://www.kaggle.com/datasets/viktorfairuschin/cafa-5-ems-2-embeddings-numpy"
   ]
  },
  {
   "cell_type": "markdown",
   "id": "b6bcd015",
   "metadata": {
    "papermill": {
     "duration": 0.228314,
     "end_time": "2023-07-30T11:47:12.182959",
     "exception": false,
     "start_time": "2023-07-30T11:47:11.954645",
     "status": "completed"
    },
    "tags": []
   },
   "source": [
    "Let's have a look at the IDs first:"
   ]
  },
  {
   "cell_type": "code",
   "execution_count": 20,
   "id": "1de4437a",
   "metadata": {
    "execution": {
     "iopub.execute_input": "2023-07-30T11:47:12.639490Z",
     "iopub.status.busy": "2023-07-30T11:47:12.639099Z",
     "iopub.status.idle": "2023-07-30T11:47:12.781586Z",
     "shell.execute_reply": "2023-07-30T11:47:12.780410Z"
    },
    "papermill": {
     "duration": 0.373635,
     "end_time": "2023-07-30T11:47:12.784253",
     "exception": false,
     "start_time": "2023-07-30T11:47:12.410618",
     "status": "completed"
    },
    "tags": []
   },
   "outputs": [],
   "source": [
    "train_id1 = np.load(\"/kaggle/input/t5embeds/train_ids.npy\")\n",
    "train_id2 = np.load(\"/kaggle/input/cafa-5-ems-2-embeddings-numpy/train_ids.npy\")\n",
    "train_id3 = np.load(\"/kaggle/input/protbert-embeddings-for-cafa5/train_ids.npy\")"
   ]
  },
  {
   "cell_type": "code",
   "execution_count": 21,
   "id": "42cbad19",
   "metadata": {
    "execution": {
     "iopub.execute_input": "2023-07-30T11:47:13.314941Z",
     "iopub.status.busy": "2023-07-30T11:47:13.314306Z",
     "iopub.status.idle": "2023-07-30T11:47:13.320555Z",
     "shell.execute_reply": "2023-07-30T11:47:13.318993Z"
    },
    "papermill": {
     "duration": 0.30911,
     "end_time": "2023-07-30T11:47:13.324355",
     "exception": false,
     "start_time": "2023-07-30T11:47:13.015245",
     "status": "completed"
    },
    "tags": []
   },
   "outputs": [],
   "source": [
    "assert len(train_id1) == len(train_id2) == len(train_id3)"
   ]
  },
  {
   "cell_type": "code",
   "execution_count": 22,
   "id": "bb0ed7af",
   "metadata": {
    "execution": {
     "iopub.execute_input": "2023-07-30T11:47:13.806225Z",
     "iopub.status.busy": "2023-07-30T11:47:13.805329Z",
     "iopub.status.idle": "2023-07-30T11:47:13.822372Z",
     "shell.execute_reply": "2023-07-30T11:47:13.820980Z"
    },
    "papermill": {
     "duration": 0.250366,
     "end_time": "2023-07-30T11:47:13.825127",
     "exception": false,
     "start_time": "2023-07-30T11:47:13.574761",
     "status": "completed"
    },
    "tags": []
   },
   "outputs": [
    {
     "data": {
      "text/plain": [
       "(False, False, True)"
      ]
     },
     "execution_count": 22,
     "metadata": {},
     "output_type": "execute_result"
    }
   ],
   "source": [
    "np.all(train_id1 == train_id2), np.all(train_id2 == train_id3), np.all(train_id1 == train_id3)"
   ]
  },
  {
   "cell_type": "code",
   "execution_count": 23,
   "id": "db3aba5d",
   "metadata": {
    "execution": {
     "iopub.execute_input": "2023-07-30T11:47:14.287467Z",
     "iopub.status.busy": "2023-07-30T11:47:14.286779Z",
     "iopub.status.idle": "2023-07-30T11:47:14.475781Z",
     "shell.execute_reply": "2023-07-30T11:47:14.474514Z"
    },
    "papermill": {
     "duration": 0.424246,
     "end_time": "2023-07-30T11:47:14.478541",
     "exception": false,
     "start_time": "2023-07-30T11:47:14.054295",
     "status": "completed"
    },
    "tags": []
   },
   "outputs": [],
   "source": [
    "test_id1 = np.load(\"/kaggle/input/t5embeds/test_ids.npy\")\n",
    "test_id2 = np.load(\"/kaggle/input/cafa-5-ems-2-embeddings-numpy/test_ids.npy\")\n",
    "test_id3 = np.load(\"/kaggle/input/protbert-embeddings-for-cafa5/test_ids.npy\")"
   ]
  },
  {
   "cell_type": "code",
   "execution_count": 24,
   "id": "25643a7d",
   "metadata": {
    "execution": {
     "iopub.execute_input": "2023-07-30T11:47:14.939166Z",
     "iopub.status.busy": "2023-07-30T11:47:14.938768Z",
     "iopub.status.idle": "2023-07-30T11:47:14.945748Z",
     "shell.execute_reply": "2023-07-30T11:47:14.944715Z"
    },
    "papermill": {
     "duration": 0.241277,
     "end_time": "2023-07-30T11:47:14.948092",
     "exception": false,
     "start_time": "2023-07-30T11:47:14.706815",
     "status": "completed"
    },
    "tags": []
   },
   "outputs": [
    {
     "data": {
      "text/plain": [
       "(141865, 141864, 141865)"
      ]
     },
     "execution_count": 24,
     "metadata": {},
     "output_type": "execute_result"
    }
   ],
   "source": [
    "len(test_id1), len(test_id2), len(test_id3)"
   ]
  },
  {
   "cell_type": "code",
   "execution_count": 25,
   "id": "1b90c731",
   "metadata": {
    "execution": {
     "iopub.execute_input": "2023-07-30T11:47:15.408638Z",
     "iopub.status.busy": "2023-07-30T11:47:15.408238Z",
     "iopub.status.idle": "2023-07-30T11:47:15.417932Z",
     "shell.execute_reply": "2023-07-30T11:47:15.416860Z"
    },
    "papermill": {
     "duration": 0.242013,
     "end_time": "2023-07-30T11:47:15.420331",
     "exception": false,
     "start_time": "2023-07-30T11:47:15.178318",
     "status": "completed"
    },
    "tags": []
   },
   "outputs": [
    {
     "data": {
      "text/plain": [
       "True"
      ]
     },
     "execution_count": 25,
     "metadata": {},
     "output_type": "execute_result"
    }
   ],
   "source": [
    "np.all(test_id1 == test_id3)"
   ]
  },
  {
   "cell_type": "markdown",
   "id": "aec28c69",
   "metadata": {
    "papermill": {
     "duration": 0.230167,
     "end_time": "2023-07-30T11:47:15.878627",
     "exception": false,
     "start_time": "2023-07-30T11:47:15.648460",
     "status": "completed"
    },
    "tags": []
   },
   "source": [
    "It seems that only the ID from 1 and 3 have the same order. For 2, the order is different. What's more, test ID is also missing a row from the secnd embedding. While saving, we will ignore the second embedding, as we are not going to use it later."
   ]
  },
  {
   "cell_type": "code",
   "execution_count": 26,
   "id": "834359ef",
   "metadata": {
    "execution": {
     "iopub.execute_input": "2023-07-30T11:47:16.337084Z",
     "iopub.status.busy": "2023-07-30T11:47:16.336702Z",
     "iopub.status.idle": "2023-07-30T11:47:16.352222Z",
     "shell.execute_reply": "2023-07-30T11:47:16.350847Z"
    },
    "papermill": {
     "duration": 0.248884,
     "end_time": "2023-07-30T11:47:16.355196",
     "exception": false,
     "start_time": "2023-07-30T11:47:16.106312",
     "status": "completed"
    },
    "tags": []
   },
   "outputs": [],
   "source": [
    "np.save(\"train_id.npy\", train_id1)\n",
    "np.save(\"test_id.npy\", test_id1)"
   ]
  },
  {
   "cell_type": "markdown",
   "id": "c76e0216",
   "metadata": {
    "papermill": {
     "duration": 0.293889,
     "end_time": "2023-07-30T11:47:16.875970",
     "exception": false,
     "start_time": "2023-07-30T11:47:16.582081",
     "status": "completed"
    },
    "tags": []
   },
   "source": [
    "Now, for embeddings."
   ]
  },
  {
   "cell_type": "code",
   "execution_count": 27,
   "id": "7fb74cbc",
   "metadata": {
    "execution": {
     "iopub.execute_input": "2023-07-30T11:47:17.333628Z",
     "iopub.status.busy": "2023-07-30T11:47:17.333186Z",
     "iopub.status.idle": "2023-07-30T11:47:49.025599Z",
     "shell.execute_reply": "2023-07-30T11:47:49.024402Z"
    },
    "papermill": {
     "duration": 31.923912,
     "end_time": "2023-07-30T11:47:49.028757",
     "exception": false,
     "start_time": "2023-07-30T11:47:17.104845",
     "status": "completed"
    },
    "tags": []
   },
   "outputs": [],
   "source": [
    "train_embedding_1 = np.load(\"/kaggle/input/t5embeds/train_embeds.npy\")\n",
    "train_embedding_2 = np.load(\"/kaggle/input/protbert-embeddings-for-cafa5/train_embeddings.npy\")\n",
    "test_embedding_1 = np.load(\"/kaggle/input/t5embeds/test_embeds.npy\")\n",
    "test_embedding_2 = np.load(\"/kaggle/input/protbert-embeddings-for-cafa5/test_embeddings.npy\")"
   ]
  },
  {
   "cell_type": "markdown",
   "id": "414bae6a",
   "metadata": {
    "papermill": {
     "duration": 0.230146,
     "end_time": "2023-07-30T11:47:49.490668",
     "exception": false,
     "start_time": "2023-07-30T11:47:49.260522",
     "status": "completed"
    },
    "tags": []
   },
   "source": [
    "Note that we are not using the embedding from EMS."
   ]
  },
  {
   "cell_type": "code",
   "execution_count": 28,
   "id": "b46faae9",
   "metadata": {
    "execution": {
     "iopub.execute_input": "2023-07-30T11:47:49.959514Z",
     "iopub.status.busy": "2023-07-30T11:47:49.958332Z",
     "iopub.status.idle": "2023-07-30T11:47:53.574262Z",
     "shell.execute_reply": "2023-07-30T11:47:53.572945Z"
    },
    "papermill": {
     "duration": 3.857462,
     "end_time": "2023-07-30T11:47:53.581632",
     "exception": false,
     "start_time": "2023-07-30T11:47:49.724170",
     "status": "completed"
    },
    "tags": []
   },
   "outputs": [],
   "source": [
    "np.save(\"t5_train_embedding.npy\", train_embedding_1)\n",
    "np.save(\"t5_test_embedding.npy\", test_embedding_1)\n",
    "np.save(\"prptbert_train_embedding.npy\", train_embedding_2)\n",
    "np.save(\"prptbert_test_embedding.npy\", test_embedding_2)"
   ]
  },
  {
   "cell_type": "code",
   "execution_count": 29,
   "id": "bc2a8668",
   "metadata": {
    "execution": {
     "iopub.execute_input": "2023-07-30T11:47:54.172671Z",
     "iopub.status.busy": "2023-07-30T11:47:54.172276Z",
     "iopub.status.idle": "2023-07-30T11:47:55.423102Z",
     "shell.execute_reply": "2023-07-30T11:47:55.421727Z"
    },
    "papermill": {
     "duration": 1.559494,
     "end_time": "2023-07-30T11:47:55.426029",
     "exception": false,
     "start_time": "2023-07-30T11:47:53.866535",
     "status": "completed"
    },
    "tags": []
   },
   "outputs": [
    {
     "name": "stdout",
     "output_type": "stream",
     "text": [
      "total 3.3G\r\n",
      "---------- 1 root root 526K Jul 30 11:47 __notebook__.ipynb\r\n",
      "-rw-r--r-- 1 root root 9.6M Jul 30 11:47 final_train_labels.parquet\r\n",
      "-rw-r--r-- 1 root root 555M Jul 30 11:47 prptbert_test_embedding.npy\r\n",
      "-rw-r--r-- 1 root root 556M Jul 30 11:47 prptbert_train_embedding.npy\r\n",
      "-rw-r--r-- 1 root root 1.1G Jul 30 11:47 t5_test_embedding.npy\r\n",
      "-rw-r--r-- 1 root root 1.1G Jul 30 11:47 t5_train_embedding.npy\r\n",
      "-rw-r--r-- 1 root root 5.5M Jul 30 11:47 test_id.npy\r\n",
      "-rw-r--r-- 1 root root 5.5M Jul 30 11:47 train_id.npy\r\n"
     ]
    }
   ],
   "source": [
    "!ls -lh"
   ]
  },
  {
   "cell_type": "markdown",
   "id": "cfed0499",
   "metadata": {
    "papermill": {
     "duration": 0.717862,
     "end_time": "2023-07-30T11:48:02.476254",
     "exception": false,
     "start_time": "2023-07-30T11:48:01.758392",
     "status": "completed"
    },
    "tags": []
   },
   "source": [
    "This gives us the dataset we need. Now, we can use this to train nueral network."
   ]
  }
 ],
 "metadata": {
  "kernelspec": {
   "display_name": "Python 3",
   "language": "python",
   "name": "python3"
  },
  "language_info": {
   "codemirror_mode": {
    "name": "ipython",
    "version": 3
   },
   "file_extension": ".py",
   "mimetype": "text/x-python",
   "name": "python",
   "nbconvert_exporter": "python",
   "pygments_lexer": "ipython3",
   "version": "3.9.15"
  },
  "papermill": {
   "default_parameters": {},
   "duration": 371.025283,
   "end_time": "2023-07-30T11:48:04.853595",
   "environment_variables": {},
   "exception": null,
   "input_path": "__notebook__.ipynb",
   "output_path": "__notebook__.ipynb",
   "parameters": {},
   "start_time": "2023-07-30T11:41:53.828312",
   "version": "2.4.0"
  }
 },
 "nbformat": 4,
 "nbformat_minor": 5
}
